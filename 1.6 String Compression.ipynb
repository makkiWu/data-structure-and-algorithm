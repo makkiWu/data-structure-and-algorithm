{
 "cells": [
  {
   "cell_type": "markdown",
   "id": "00061aa3",
   "metadata": {},
   "source": [
    "### Implement a method to perform basic string compression using the counts of repeated characters.\n",
    "### If the compressed string would not become smaller than the original string,your method should return the original string."
   ]
  },
  {
   "cell_type": "code",
   "execution_count": 7,
   "id": "cd471511",
   "metadata": {},
   "outputs": [],
   "source": [
    "def compressString_1(S):\n",
    "        if S=='':\n",
    "            return S\n",
    "        else:\n",
    "            ch=S[0]\n",
    "            cnt=0\n",
    "            ans=[]\n",
    "            for c in S:\n",
    "                if c==ch:\n",
    "                    cnt+=1\n",
    "                else:\n",
    "                    ans.append(ch)\n",
    "                    ans.append(str(cnt))\n",
    "                    ch=i\n",
    "                    cnt=1\n",
    "            ans.append(ch)\n",
    "            ans.append(str(cnt))\n",
    "            ans=''.join(ans)\n",
    "            return ans if len(ans)<len(S) else S"
   ]
  },
  {
   "cell_type": "code",
   "execution_count": 8,
   "id": "a3a5a5f1",
   "metadata": {},
   "outputs": [
    {
     "data": {
      "text/plain": [
       "'aabcccccaa'"
      ]
     },
     "execution_count": 8,
     "metadata": {},
     "output_type": "execute_result"
    }
   ],
   "source": [
    "a='aabcccccaa'\n",
    "compressString_1(a)"
   ]
  },
  {
   "cell_type": "code",
   "execution_count": 5,
   "id": "a0a78bc9",
   "metadata": {},
   "outputs": [
    {
     "data": {
      "text/plain": [
       "'a'"
      ]
     },
     "execution_count": 5,
     "metadata": {},
     "output_type": "execute_result"
    }
   ],
   "source": [
    "a='a'\n",
    "compressString_1(a)"
   ]
  },
  {
   "cell_type": "code",
   "execution_count": 4,
   "id": "320b2a11",
   "metadata": {},
   "outputs": [],
   "source": [
    "def compressString_2(S):\n",
    "    i,j=0,0\n",
    "    ls=len(S)\n",
    "    ans=[]\n",
    "    while i<ls:\n",
    "        while j<ls and S[i]==S[j]:\n",
    "            j+=1\n",
    "        ans.append(S[i])\n",
    "        ans.append(str(j-i))\n",
    "        i=j\n",
    "    ans=''.join(ans)\n",
    "    return ans if len(ans)<ls else S"
   ]
  },
  {
   "cell_type": "code",
   "execution_count": 5,
   "id": "a888fcb4",
   "metadata": {},
   "outputs": [
    {
     "data": {
      "text/plain": [
       "'a2b1c5a2'"
      ]
     },
     "execution_count": 5,
     "metadata": {},
     "output_type": "execute_result"
    }
   ],
   "source": [
    "a='aabcccccaa'\n",
    "compressString_2(a)"
   ]
  },
  {
   "cell_type": "code",
   "execution_count": 6,
   "id": "4323ed7a",
   "metadata": {},
   "outputs": [
    {
     "data": {
      "text/plain": [
       "'a'"
      ]
     },
     "execution_count": 6,
     "metadata": {},
     "output_type": "execute_result"
    }
   ],
   "source": [
    "a='a'\n",
    "compressString_2(a)"
   ]
  },
  {
   "cell_type": "code",
   "execution_count": null,
   "id": "0b475134",
   "metadata": {},
   "outputs": [],
   "source": []
  }
 ],
 "metadata": {
  "kernelspec": {
   "display_name": "Python 3",
   "language": "python",
   "name": "python3"
  },
  "language_info": {
   "codemirror_mode": {
    "name": "ipython",
    "version": 3
   },
   "file_extension": ".py",
   "mimetype": "text/x-python",
   "name": "python",
   "nbconvert_exporter": "python",
   "pygments_lexer": "ipython3",
   "version": "3.6.6"
  }
 },
 "nbformat": 4,
 "nbformat_minor": 5
}
