{
 "cells": [
  {
   "cell_type": "markdown",
   "id": "2b007ed9",
   "metadata": {},
   "source": [
    "### 二叉树的存储\n",
    "#### 1.节点类"
   ]
  },
  {
   "cell_type": "code",
   "execution_count": 6,
   "id": "611acab8",
   "metadata": {},
   "outputs": [],
   "source": [
    "from collections import deque\n",
    "class TreeNode:\n",
    "    def __init__(self,val = 0,left = None,right = None):\n",
    "        self.val = val\n",
    "        self.left = left\n",
    "        self.right = right\n",
    "\n",
    "# 使用层序遍历来打印函数\n",
    "def print_level_order(root):\n",
    "    if not root:\n",
    "        return\n",
    "\n",
    "    # 创建队列并将根节点放入队列\n",
    "    queue = deque([root])\n",
    "\n",
    "    while queue:\n",
    "        node = queue.popleft()\n",
    "        print(node.val, end=\" \")\n",
    "\n",
    "        # 将左子节点和右子节点放入队列\n",
    "        if node.left:\n",
    "            queue.append(node.left)\n",
    "        if node.right:\n",
    "            queue.append(node.right)"
   ]
  },
  {
   "cell_type": "markdown",
   "id": "8f523be0",
   "metadata": {},
   "source": [
    "#### 1.1手动输入"
   ]
  },
  {
   "cell_type": "code",
   "execution_count": 8,
   "id": "4004bc0d",
   "metadata": {},
   "outputs": [
    {
     "name": "stdout",
     "output_type": "stream",
     "text": [
      "1 2 3 4 5 6 "
     ]
    }
   ],
   "source": [
    "if __name__ == \"__main__\":\n",
    "    root = TreeNode(1)\n",
    "    root.left = TreeNode(2)\n",
    "    root.right = TreeNode(3)\n",
    "    root.left.left = TreeNode(4)\n",
    "    root.left.right = TreeNode(5)\n",
    "    root.right.right = TreeNode(6)\n",
    "    \n",
    "    print_level_order(root)"
   ]
  },
  {
   "cell_type": "markdown",
   "id": "17af8d63",
   "metadata": {},
   "source": [
    "### 1.2已知先序遍历，构建二叉树"
   ]
  },
  {
   "cell_type": "code",
   "execution_count": 9,
   "id": "c9912687",
   "metadata": {},
   "outputs": [
    {
     "name": "stdout",
     "output_type": "stream",
     "text": [
      "1 2 3 5 6 7 "
     ]
    }
   ],
   "source": [
    "#构建二叉树    \n",
    "def build_pre():\n",
    "    if preorder:\n",
    "        value = preorder.pop(0)\n",
    "        if value is None:\n",
    "            return None\n",
    "        node = TreeNode(value)\n",
    "        node.left = build_pre()\n",
    "        node.right = build_pre()\n",
    "        return node\n",
    "    else:\n",
    "        return None\n",
    "\n",
    "#先序序列的列表\n",
    "preorder = [1,2,None,5,None,None,3,6,None,None,7]\n",
    "root = build()\n",
    "\n",
    "print_level_order(root)"
   ]
  },
  {
   "cell_type": "markdown",
   "id": "5a519f93",
   "metadata": {},
   "source": [
    "### 1.3已知层序遍历，构建一个二叉树"
   ]
  },
  {
   "cell_type": "code",
   "execution_count": 10,
   "id": "9d1eda92",
   "metadata": {},
   "outputs": [
    {
     "name": "stdout",
     "output_type": "stream",
     "text": [
      "1 2 3 5 6 7 "
     ]
    }
   ],
   "source": [
    "\n",
    "def build_tree(level_order):\n",
    "    if not level_order:\n",
    "        return None\n",
    "\n",
    "    # 创建根节点并初始化队列\n",
    "    root = TreeNode(level_order[0])\n",
    "    queue = deque([root])\n",
    "    i = 1\n",
    "\n",
    "    while queue:\n",
    "        #从队列中弹出当前节点\n",
    "        node = queue.popleft()\n",
    "\n",
    "        # 处理左子节点\n",
    "        if i < len(level_order) and level_order[i] is not None:\n",
    "            node.left = TreeNode(level_order[i])\n",
    "            queue.append(node.left)\n",
    "        i += 1\n",
    "\n",
    "        # 处理右子节点\n",
    "        if i < len(level_order) and level_order[i] is not None:\n",
    "            node.right = TreeNode(level_order[i])\n",
    "            queue.append(node.right)\n",
    "        i += 1\n",
    "\n",
    "    return root\n",
    "\n",
    "# 示例层序序列\n",
    "level_order = [1,2,3,None,5,6,7]\n",
    "\n",
    "# 构建二叉树\n",
    "root = build_tree(level_order)\n",
    "\n",
    "print_level_order(root)"
   ]
  },
  {
   "cell_type": "markdown",
   "id": "e21c27fc",
   "metadata": {},
   "source": [
    "#### 2.列表表示"
   ]
  },
  {
   "cell_type": "code",
   "execution_count": 2,
   "id": "423cd2cf",
   "metadata": {},
   "outputs": [],
   "source": [
    "binary_tree = [1,2,3,4,5,6,7]\n",
    "#一个元素代表一个节点的值，通过索引来确定节点之间的父子关系。\n",
    "#通常用于满二叉树或者完全二叉树"
   ]
  },
  {
   "cell_type": "markdown",
   "id": "0260ca33",
   "metadata": {},
   "source": [
    "#### 3.字典表示法"
   ]
  },
  {
   "cell_type": "code",
   "execution_count": 3,
   "id": "13ac8d46",
   "metadata": {},
   "outputs": [],
   "source": [
    "#每一个键表示节点的唯一标识，对应的值表示节点的值和字节的标识。\n",
    "#常用于表示非二叉搜索树（BST）\n",
    "binary_tree = {\n",
    "    'root':1,\n",
    "    'left':{\n",
    "        'root':2,\n",
    "        'left':4,\n",
    "        'right':5\n",
    "    },\n",
    "    'right':{\n",
    "        'root':3,\n",
    "        'left':6,\n",
    "        'right':7\n",
    "    }\n",
    "}"
   ]
  },
  {
   "cell_type": "markdown",
   "id": "ff643e13",
   "metadata": {},
   "source": [
    "#### 4.链表表示法"
   ]
  },
  {
   "cell_type": "code",
   "execution_count": 4,
   "id": "2c422445",
   "metadata": {},
   "outputs": [],
   "source": [
    "class ListNode:\n",
    "    def __init__(self,val = 0,next = None):\n",
    "        self.val = val\n",
    "        self.next = next"
   ]
  },
  {
   "cell_type": "code",
   "execution_count": null,
   "id": "09af491f",
   "metadata": {},
   "outputs": [],
   "source": []
  }
 ],
 "metadata": {
  "kernelspec": {
   "display_name": "Python 3 (ipykernel)",
   "language": "python",
   "name": "python3"
  },
  "language_info": {
   "codemirror_mode": {
    "name": "ipython",
    "version": 3
   },
   "file_extension": ".py",
   "mimetype": "text/x-python",
   "name": "python",
   "nbconvert_exporter": "python",
   "pygments_lexer": "ipython3",
   "version": "3.11.4"
  }
 },
 "nbformat": 4,
 "nbformat_minor": 5
}
