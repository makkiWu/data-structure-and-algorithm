{
 "cells": [
  {
   "cell_type": "markdown",
   "id": "5aa5ecd2",
   "metadata": {},
   "source": [
    "### 图的定义（单独定一个类）\n",
    "#### 1.邻接表形式存储\n",
    ">self.graph={}   创建了一个普通的字典，不具备默认值，访问字典中不存在的键时会触发‘KeyError’异常    \n",
    ">self.graph = defaultdict(list)  如果访问不存在的键，会自动创建一个默认值并返回，这里我们设置默认值为一个空列表"
   ]
  },
  {
   "cell_type": "code",
   "execution_count": 2,
   "id": "d51531b7",
   "metadata": {},
   "outputs": [
    {
     "name": "stdout",
     "output_type": "stream",
     "text": [
      "a -> ['b', 'c']\n",
      "b -> ['c']\n",
      "c -> ['a', 'd']\n",
      "d -> []\n"
     ]
    }
   ],
   "source": [
    "from collections import defaultdict\n",
    "class Graph:\n",
    "    #类的构造，初始化一个空的有向图\n",
    "    def __init__(self):\n",
    "        #self.graph={}\n",
    "        self.graph = defaultdict(list)\n",
    "    #添加一条从u到v的边\n",
    "    def add_edge(self,u,v):\n",
    "        if u in self.graph:\n",
    "            self.graph[u].append(v)\n",
    "        else:\n",
    "            self.graph[u]=[v]\n",
    "        if v not in self.graph:\n",
    "            self.graph[v] = []\n",
    "    def print_graph(self):\n",
    "        for node,neighbors in self.graph.items():\n",
    "            print(f\"{node} -> {neighbors}\")\n",
    "if __name__ == \"__main__\":\n",
    "    g = Graph()\n",
    "    edges = [('a','b'),('a','c'),('b','c'),('c','a'),('c','d')]\n",
    "    for u,v in edges:\n",
    "        g.add_edge(u,v)\n",
    "    g.print_graph()"
   ]
  },
  {
   "cell_type": "markdown",
   "id": "40a112c1",
   "metadata": {},
   "source": [
    "#### 2.邻接矩阵形式存储"
   ]
  },
  {
   "cell_type": "code",
   "execution_count": 3,
   "id": "85784277",
   "metadata": {},
   "outputs": [
    {
     "name": "stdout",
     "output_type": "stream",
     "text": [
      "0 1 1 0\n",
      "0 0 1 0\n",
      "1 0 0 1\n",
      "0 0 0 1\n"
     ]
    }
   ],
   "source": [
    "class Graph:\n",
    "    #类的构造并传入一个参数（节点数量），初始化一个空的有向图\n",
    "    #self.graph是一个字典，存储图的边\n",
    "    def __init__(self,num_nodes):\n",
    "        self.num_nodes = num_nodes\n",
    "        #初始化一个矩阵，大小为 num_nodes * num_nodes并将所有元素初始化为0\n",
    "        self.graph = [[0]*num_nodes for _ in range(num_nodes)]\n",
    "    #添加一条从u到v的边\n",
    "    def add_edge(self,u,v):\n",
    "        if 0 <= u < self.num_nodes and 0 <= v < self.num_nodes:\n",
    "            self.graph[u][v] = 1\n",
    "            #无向图\n",
    "            #self.graph[v][u] = 1\n",
    "    def print_graph(self):\n",
    "        for row in self.graph:\n",
    "            print(\" \".join(map(str,row)))\n",
    "\n",
    "if __name__ ==\"__main__\":\n",
    "    num_nodes = 4\n",
    "    g = Graph(num_nodes)\n",
    "    edges = [(0,1),(0,2),(1,2),(2,0),(2,3),(3,3)]\n",
    "    for u,v in edges:\n",
    "        g.add_edge(u,v)\n",
    "    g.print_graph()"
   ]
  },
  {
   "cell_type": "code",
   "execution_count": null,
   "id": "59a4a941",
   "metadata": {},
   "outputs": [],
   "source": []
  }
 ],
 "metadata": {
  "kernelspec": {
   "display_name": "Python 3 (ipykernel)",
   "language": "python",
   "name": "python3"
  },
  "language_info": {
   "codemirror_mode": {
    "name": "ipython",
    "version": 3
   },
   "file_extension": ".py",
   "mimetype": "text/x-python",
   "name": "python",
   "nbconvert_exporter": "python",
   "pygments_lexer": "ipython3",
   "version": "3.11.4"
  }
 },
 "nbformat": 4,
 "nbformat_minor": 5
}
