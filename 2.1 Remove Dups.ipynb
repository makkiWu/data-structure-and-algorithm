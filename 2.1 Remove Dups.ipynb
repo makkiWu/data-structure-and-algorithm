{
 "cells": [
  {
   "cell_type": "markdown",
   "id": "198b26e6",
   "metadata": {},
   "source": [
    "- 2.1 Remove Dups：Write code to remove duplicates from an unsorted linked list.\n",
    "-  FOLLOW UP(how could you solve this problem if a temporary buffer is not allowed?)"
   ]
  },
  {
   "cell_type": "code",
   "execution_count": 2,
   "id": "4c2fc701",
   "metadata": {},
   "outputs": [],
   "source": [
    "class ListNode:\n",
    "    def __init__(self,val=0,next=None):\n",
    "        self.val=val\n",
    "        self.next=next"
   ]
  },
  {
   "cell_type": "code",
   "execution_count": 3,
   "id": "6e17f05a",
   "metadata": {},
   "outputs": [],
   "source": [
    "#方法一：使用hash表记录字符出现数量\n",
    "#请定义一个带头结点的链表\n",
    "from collections import defaultdict\n",
    "def delDup(head):\n",
    "    p=head.next\n",
    "    dic=defaultdict(int)\n",
    "    #构造字典统计每个字符出现的数量\n",
    "    while p is not None:\n",
    "        dic[p.val]+=1\n",
    "        p=p.next\n",
    "    \n",
    "    p=head\n",
    "    u=head.next\n",
    "    while u is not None:\n",
    "        if dic[u.val]>1:\n",
    "            #如果u指向的结点存在重复\n",
    "            dic[u.val]-=1\n",
    "            p.next=u.next\n",
    "            u=u.next\n",
    "            \n",
    "        else:    \n",
    "            p=u\n",
    "            u=u.next\n",
    "        #print(dic)\n",
    "    return head          "
   ]
  },
  {
   "cell_type": "code",
   "execution_count": 5,
   "id": "d4902338",
   "metadata": {},
   "outputs": [],
   "source": [
    "#不用额外的缓冲区\n",
    "#方法二：暴力解法，双层循环\n",
    "def delDup(head):\n",
    "    p=head.next\n",
    "    while p is not None:\n",
    "        u=p\n",
    "        while u.next is not None:\n",
    "            if u.next.val==p.val:\n",
    "                u.next=u.next.next\n",
    "            else:\n",
    "                u=u.next\n",
    "        p=p.next\n",
    "    return head"
   ]
  },
  {
   "cell_type": "code",
   "execution_count": 4,
   "id": "60719025",
   "metadata": {},
   "outputs": [],
   "source": [
    "s=[1,2,3,2,2,4]\n",
    "head=ListNode(0)\n",
    "current=head\n",
    "for c in s:\n",
    "    current.next=ListNode(c)\n",
    "    current=current.next"
   ]
  },
  {
   "cell_type": "code",
   "execution_count": 6,
   "id": "40c43f62",
   "metadata": {},
   "outputs": [
    {
     "name": "stdout",
     "output_type": "stream",
     "text": [
      "1\n",
      "2\n",
      "3\n",
      "4\n"
     ]
    }
   ],
   "source": [
    "ans=delDup(head)\n",
    "p=ans.next\n",
    "while p!=None:\n",
    "    print(p.val)\n",
    "    p=p.next\n"
   ]
  },
  {
   "cell_type": "code",
   "execution_count": null,
   "id": "1da3ef47",
   "metadata": {},
   "outputs": [],
   "source": []
  }
 ],
 "metadata": {
  "kernelspec": {
   "display_name": "Python 3 (ipykernel)",
   "language": "python",
   "name": "python3"
  },
  "language_info": {
   "codemirror_mode": {
    "name": "ipython",
    "version": 3
   },
   "file_extension": ".py",
   "mimetype": "text/x-python",
   "name": "python",
   "nbconvert_exporter": "python",
   "pygments_lexer": "ipython3",
   "version": "3.11.4"
  }
 },
 "nbformat": 4,
 "nbformat_minor": 5
}
