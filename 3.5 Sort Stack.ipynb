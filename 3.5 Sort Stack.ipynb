{
 "cells": [
  {
   "cell_type": "markdown",
   "id": "1e41ae29",
   "metadata": {},
   "source": [
    "- Write a program to sort a stack such that the smallest items are on the top.You can use an additional temporary stack,but you may not copy the elements into any other data structure(such as an array).The stack supports the following  operations:push,pop,peek,ans isEmpty"
   ]
  },
  {
   "cell_type": "markdown",
   "id": "758133f2",
   "metadata": {},
   "source": [
    "# 方法提示\n",
    "1. 遍历n次，直接按序复制到additional stck里\n",
    "2. 用一个临时变量保存当前要被排序的数，然后比当前值要大的数都从临时栈中pop出来扔到原栈里，把当前值扔进有序的临时栈。原栈栈顶的数又是新的临时变量"
   ]
  },
  {
   "cell_type": "code",
   "execution_count": 64,
   "id": "1dd97663",
   "metadata": {},
   "outputs": [],
   "source": [
    "#定义栈的数据结构和基本方法\n",
    "class Stack:\n",
    "    def __init__(self):\n",
    "        self.items=[]\n",
    "        \n",
    "    def push(self,x):\n",
    "        #进栈\n",
    "        self.items.append(x)\n",
    "        \n",
    "    def pop(self):\n",
    "        #出栈\n",
    "        if self.isEmpty():\n",
    "            raise IndexError('栈为空，无法执行pop操作')\n",
    "            #raise 是一个Python关键字，用于在程序中显式地引发异常。\n",
    "            #它的主要用法是在代码中手动触发异常，通常是在某些错误或不符合条件的情况下。\n",
    "        else:\n",
    "            return self.items.pop()\n",
    "            #pop()方法是列表（或者数组）的一个内置方法，用于移除并返回列表中的最后一个元素\n",
    "    def peek(self):\n",
    "        #查看栈顶元素，不弹出\n",
    "        if self.isEmpty():\n",
    "            raise IndexError('栈为空，无法执行1peek操作')\n",
    "        else:\n",
    "            return self.items[-1]\n",
    "        \n",
    "    def isEmpty(self):\n",
    "        #判空\n",
    "        return len(self.items)==0"
   ]
  },
  {
   "cell_type": "code",
   "execution_count": 65,
   "id": "6c754fb2",
   "metadata": {},
   "outputs": [],
   "source": [
    "#方法1 tmp难以正确更新取值\n",
    "def sortStack(S):\n",
    "    if S.isEmpty():\n",
    "        return S\n",
    "    else:\n",
    "        tmp=S.peek()\n",
    "        ls=len(S.items)\n",
    "        r=Stack()\n",
    "        #for i in range ls:\n",
    "        for i in range(ls):\n",
    "            if S.items[i]<tmp:\n",
    "                tmp=S.items[i]\n",
    "        r.push(tmp)\n",
    "        #print(r.peek())\n",
    "        for i in range (1,ls):\n",
    "            tmp=float('inf')#用无穷大作为初值\n",
    "            for j in range(ls):\n",
    "                if S.items[j]<tmp and S.items[j]>r.peek():\n",
    "                    tmp=S.items[j]\n",
    "            #print(tmp)\n",
    "            r.push(tmp)  \n",
    "        return r"
   ]
  },
  {
   "cell_type": "code",
   "execution_count": 66,
   "id": "90e3f6fd",
   "metadata": {},
   "outputs": [],
   "source": [
    "#方法二\n",
    "def sortStack(S):\n",
    "    if S.isEmpty():\n",
    "        return S\n",
    "    else:\n",
    "        ans=Stack()\n",
    "        while not S.isEmpty():\n",
    "            tmp=S.pop()\n",
    "            while not ans.isEmpty() and ans.peek()>tmp:\n",
    "                S.push(ans.pop())\n",
    "            ans.push(tmp)\n",
    "            #print(ans.peek())\n",
    "        return ans"
   ]
  },
  {
   "cell_type": "code",
   "execution_count": 67,
   "id": "b068e8e7",
   "metadata": {},
   "outputs": [
    {
     "name": "stdout",
     "output_type": "stream",
     "text": [
      "[5, 3, 2, 4, 1]\n"
     ]
    }
   ],
   "source": [
    "#实例\n",
    "ep_stack=Stack()\n",
    "ep_stack.push(5)\n",
    "ep_stack.push(3)\n",
    "ep_stack.push(2)\n",
    "ep_stack.push(4)\n",
    "ep_stack.push(1)\n",
    "print(ep_stack.items)\n",
    "a=sortStack(ep_stack)\n"
   ]
  },
  {
   "cell_type": "code",
   "execution_count": 68,
   "id": "8a63d6dd",
   "metadata": {},
   "outputs": [
    {
     "name": "stdout",
     "output_type": "stream",
     "text": [
      "[1, 2, 3, 4, 5]\n"
     ]
    }
   ],
   "source": [
    "print(a.items)"
   ]
  },
  {
   "cell_type": "code",
   "execution_count": null,
   "id": "92472464",
   "metadata": {},
   "outputs": [],
   "source": []
  }
 ],
 "metadata": {
  "kernelspec": {
   "display_name": "Python 3 (ipykernel)",
   "language": "python",
   "name": "python3"
  },
  "language_info": {
   "codemirror_mode": {
    "name": "ipython",
    "version": 3
   },
   "file_extension": ".py",
   "mimetype": "text/x-python",
   "name": "python",
   "nbconvert_exporter": "python",
   "pygments_lexer": "ipython3",
   "version": "3.11.4"
  }
 },
 "nbformat": 4,
 "nbformat_minor": 5
}
