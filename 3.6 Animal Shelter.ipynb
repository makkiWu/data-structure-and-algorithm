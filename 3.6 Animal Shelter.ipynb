{
 "cells": [
  {
   "cell_type": "markdown",
   "id": "1ca7ef49",
   "metadata": {},
   "source": [
    "- An animal shelter,which holds only dogs and cats,operates on a strictly \"first in,first out\" basis.People must adopt either the \"oldest\" (based on arrival time) of all animals at the shelter,or thet can select whether they would prefer a dog or a cat  (and will receive the oldest animal of that type).They cannot select which specific animal they would like.Create the data structures to maintain this system and implement operations such as enqueue,dequeueAny,dequeueDog and dequeueCat.You may use built-in LinkedList data structure."
   ]
  },
  {
   "cell_type": "code",
   "execution_count": null,
   "id": "531f8993",
   "metadata": {},
   "outputs": [],
   "source": [
    "#是队列，但用链表存储的队列？可是python没有内置链表啊。。。无所谓了吧这一条\n",
    "#头尾指针？\n",
    "#感觉是个纯粹的构造对象和数据结构的题目啊...\n",
    "#这些猫猫狗狗怎么没名字啊，那从结果根本看不出出来的是不是年纪最大的啊，不行我要给取名字"
   ]
  },
  {
   "cell_type": "markdown",
   "id": "2e96ff9e",
   "metadata": {},
   "source": [
    "### 介绍一个python内置的双端队列实现\n",
    "- collections.deque 是 Python 标准库中的一个双端队列（deque）实现，它提供了高效的操作，适用于在队列的两端（前端和后端）进行添加和删除元素。deque 是 \"double-ended queue\" 的缩写，可以看作是队列和栈的混合数据结构。\n",
    "1. append(x): 在队列的右侧添加元素 x。\n",
    "2. appendleft(x): 在队列的左侧添加元素 x。\n",
    "3. pop(): 移除并返回队列的右侧元素。\n",
    "4. popleft(): 移除并返回队列的左侧元素。\n",
    "5. extend(iterable): 从右侧扩展队列，将可迭代对象中的元素依次添加到队列的右侧。\n",
    "6. extendleft(iterable): 从左侧扩展队列，将可迭代对象中的元素依次添加到队列的左侧。\n",
    "7. rotate(n): 向右循环移动队列元素，n 为负数时向左循环。"
   ]
  },
  {
   "cell_type": "code",
   "execution_count": 1,
   "id": "fbc8eac0",
   "metadata": {},
   "outputs": [
    {
     "name": "stdout",
     "output_type": "stream",
     "text": [
      "1\n",
      "2\n",
      "3\n"
     ]
    }
   ],
   "source": [
    "#python中同样有内置的队列实现\n",
    "import queue\n",
    "\n",
    "q = queue.Queue()\n",
    "\n",
    "q.put(1)\n",
    "q.put(2)\n",
    "q.put(3)\n",
    "\n",
    "while not q.empty():\n",
    "    item = q.get()\n",
    "    print(item)"
   ]
  },
  {
   "cell_type": "markdown",
   "id": "70cdf6c9",
   "metadata": {},
   "source": [
    "# 正式开始做题!"
   ]
  },
  {
   "cell_type": "code",
   "execution_count": 20,
   "id": "056f3f3f",
   "metadata": {},
   "outputs": [],
   "source": [
    "#方法一：使用普通队列\n",
    "from queue import Queue\n",
    "class AnimalShelter:\n",
    "    def __init__(self):\n",
    "        self.dogs=Queue()\n",
    "        self.cats=Queue()\n",
    "        self.order=0\n",
    "    \n",
    "    def enqueue(self,animal_type,name):\n",
    "        self.order+=1#记录当前来的动物的排序，排序小的先出去\n",
    "        animal=(animal_type,self.order,name)\n",
    "        '''是一个元组，用于表示动物的类型,到达动物收容所的顺序和名字。\n",
    "        这个元组将这两个信息捆绑在一起，以便稍后在队列中正确识别和处理动物。'''\n",
    "        if animal_type=='dog':\n",
    "            self.dogs.put(animal)\n",
    "        elif animal_type=='cat':\n",
    "            self.cats.put(animal)\n",
    "            \n",
    "    def dequeueAny(self):\n",
    "        if not self.cats and not self.dogs:\n",
    "            return None\n",
    "        if not self.dogs:\n",
    "            return self.cats.get()[2]\n",
    "        if not self.cats:\n",
    "            return self.dogs.get()[2]\n",
    "        '''\n",
    "        if self.dogs.get()[1]<self.cats.get()[1]:\n",
    "            return self.dogs.get()[2]\n",
    "        在判断语句中调用get()使队列发生了改变，使得可能要返回的内容提前里离开队列了\n",
    "        最终用get返回的队顶已经不是原来的队顶了\n",
    "        '''\n",
    "        if self.dogs.queue[0][1]<self.cats.queue[0][1]:#查看队首元素但不改变队列\n",
    "            return self.dogs.get()[2]\n",
    "        else:\n",
    "            return self.cats.get()[2]\n",
    "            \n",
    "#         dog=self.dogs.get()\n",
    "#         cat=self.cats.get()\n",
    "#         if dog[1]<cat[1]:\n",
    "#             self.cats.put(cat)#把没用到的cat队顶放回队列\n",
    "#             print(self.cats.get()[2])\n",
    "#             return dog[2]\n",
    "#         else:\n",
    "#             self.dogs.put(dog)\n",
    "#             return cat[2]\n",
    "        '''\n",
    "        key:多次调用get的时候一定要注意是否正确改变队列，尤其是在判断语句里用get时\n",
    "        '''\n",
    "        \n",
    "    def dequeueDog(self):\n",
    "        if not self.dogs:\n",
    "            return None\n",
    "        return self.dogs.get()[2]\n",
    "    \n",
    "    def dequeueCat(self):\n",
    "        if not self.cats:\n",
    "            return None\n",
    "        return self.cats.get()[2]"
   ]
  },
  {
   "cell_type": "code",
   "execution_count": 21,
   "id": "124429c0",
   "metadata": {},
   "outputs": [
    {
     "name": "stdout",
     "output_type": "stream",
     "text": [
      "小波\n",
      "玛卡巴卡\n",
      "奇奇\n"
     ]
    }
   ],
   "source": [
    "shelter = AnimalShelter()\n",
    "shelter.enqueue('dog','小波')\n",
    "shelter.enqueue('cat','奇奇')\n",
    "shelter.enqueue('dog','玛卡巴卡')\n",
    "shelter.enqueue('cat','唔西迪西')\n",
    "print(shelter.dequeueAny())  \n",
    "print(shelter.dequeueDog())  \n",
    "print(shelter.dequeueCat())  "
   ]
  },
  {
   "cell_type": "code",
   "execution_count": 28,
   "id": "8ed7db52",
   "metadata": {},
   "outputs": [],
   "source": [
    "#方法二：使用双端队列(存疑，类似栈)（实践证明从逻辑上就完全失败！）\n",
    "from collections import deque\n",
    "class AnimalShelter:\n",
    "    def __init__(self):\n",
    "        self.animals=deque()\n",
    "        self.order=0\n",
    "        \n",
    "    def enqueue(self,animal_type,name):\n",
    "        self.order+=1#记录当前来的动物的排序，排序小的先出去\n",
    "        animal=(animal_type,self.order,name)\n",
    "        #右边放狗，左边放猫\n",
    "        if animal_type=='dog':\n",
    "            self.animals.append(animal)\n",
    "        elif animal_type=='cat':\n",
    "            self.animals.appendleft(animal)\n",
    "            \n",
    "    #如果有猫，那么最左边一定是猫，如果有狗，那么最右边一定是狗        \n",
    "    def dequeueAny(self):\n",
    "        if not self.animals:\n",
    "            return None\n",
    "        #如果没狗,即最右边不是狗\n",
    "        if self.animals[-1][0]!='dog':\n",
    "            return self.animals.popleft()[2]\n",
    "        #如果没猫，即最左边不是猫\n",
    "        if self.animals[0][0]!='cat':\n",
    "            return self.animals.pop()[2]\n",
    "        #狗比猫先来\n",
    "        if self.animals[-1][1]<self.animals[0][1]:\n",
    "            return self.animals.pop()[2]\n",
    "        else:\n",
    "            return self.animals.popleft()[2]\n",
    "        \n",
    "    def dequeueDog(self):\n",
    "        if self.animals[-1][0]!='dog':\n",
    "            return None\n",
    "        return self.animals.pop()[2]\n",
    "    \n",
    "    def dequeueCat(self):\n",
    "        if self.animals[0][0]!='cat':\n",
    "            return None\n",
    "        return self.animals.popleft()[2]"
   ]
  },
  {
   "cell_type": "code",
   "execution_count": 31,
   "id": "8dae8f25",
   "metadata": {},
   "outputs": [
    {
     "name": "stdout",
     "output_type": "stream",
     "text": [
      "玛卡巴卡\n"
     ]
    }
   ],
   "source": [
    "shelter = AnimalShelter()\n",
    "shelter.enqueue('dog','小波')\n",
    "shelter.enqueue('cat','奇奇')\n",
    "shelter.enqueue('dog','玛卡巴卡')\n",
    "shelter.enqueue('cat','唔西迪西')\n",
    "print(shelter.dequeueAny())  \n",
    "#print(shelter.dequeueDog())  \n",
    "#print(shelter.dequeueCat())  "
   ]
  },
  {
   "cell_type": "code",
   "execution_count": null,
   "id": "cffbbc34",
   "metadata": {},
   "outputs": [],
   "source": []
  }
 ],
 "metadata": {
  "kernelspec": {
   "display_name": "Python 3 (ipykernel)",
   "language": "python",
   "name": "python3"
  },
  "language_info": {
   "codemirror_mode": {
    "name": "ipython",
    "version": 3
   },
   "file_extension": ".py",
   "mimetype": "text/x-python",
   "name": "python",
   "nbconvert_exporter": "python",
   "pygments_lexer": "ipython3",
   "version": "3.11.4"
  }
 },
 "nbformat": 4,
 "nbformat_minor": 5
}
