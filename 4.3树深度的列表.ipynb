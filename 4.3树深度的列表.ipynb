{
 "cells": [
  {
   "cell_type": "code",
   "execution_count": 5,
   "id": "22ba3e9c",
   "metadata": {},
   "outputs": [],
   "source": [
    "#定义二叉树的存储\n",
    "class TreeNode:\n",
    "    def __init__(self,val = 0,left = None,right = None):\n",
    "        self.val = val\n",
    "        self.left = left\n",
    "        self.right = right\n",
    "        \n",
    "#链表存储每一层的节点\n",
    "class ListNode:\n",
    "    def __init__(self,val = 0,next = None):\n",
    "        self.val = val\n",
    "        self.next = next\n",
    "        \n",
    "#构建二叉树    \n",
    "def build_pre():\n",
    "    if preorder:\n",
    "        value = preorder.pop(0)\n",
    "        if value is None:\n",
    "            return None\n",
    "        node = TreeNode(value)\n",
    "        node.left = build_pre()\n",
    "        node.right = build_pre()\n",
    "        return node\n",
    "    else:\n",
    "        return None"
   ]
  },
  {
   "cell_type": "markdown",
   "id": "ab5d8c3d",
   "metadata": {},
   "source": [
    "### 方法一：先序遍历（DFS思路）"
   ]
  },
  {
   "cell_type": "code",
   "execution_count": 6,
   "id": "33117bdf",
   "metadata": {},
   "outputs": [
    {
     "name": "stdout",
     "output_type": "stream",
     "text": [
      "Level 0: 1 \t\n",
      "Level 1: 2 3 \t\n",
      "Level 2: 5 6 7 \t\n"
     ]
    }
   ],
   "source": [
    "\n",
    "def create_list(root):\n",
    "    #用来存放每一层的节点\n",
    "    result = []\n",
    "    \n",
    "    def dfs(node,level):\n",
    "        if not node:\n",
    "            return\n",
    "        #如果result的长度<深度：node所在的这一层都还没有遍历，此时就需要添加一个list来保存这一层的节点数据\n",
    "        if len(result) <= level:\n",
    "            result.append(ListNode(node.val))\n",
    "        else:\n",
    "            #获取当前层的链表头节点\n",
    "            current = result[level]\n",
    "            #找到当前层链表的尾节点\n",
    "            while current.next:\n",
    "                current = current.next\n",
    "            #将当前节点node加入到链表的最后\n",
    "            current.next = ListNode(node.val)\n",
    "        #递归调用处理左子树\n",
    "        dfs(node.left,level+1)\n",
    "        #递归调用处理右子树\n",
    "        dfs(node.right,level+1)\n",
    "        \n",
    "    #从根节点开始，并且设置根节点为第0层    \n",
    "    dfs(root,0)\n",
    "    return result\n",
    "\n",
    "if __name__ == \"__main__\":\n",
    "    \n",
    "    #先序序列的列表\n",
    "    preorder = [1,2,None,5,None,None,3,6,None,None,7]\n",
    "    root = build_pre()\n",
    "    \n",
    "    total_result = create_list(root)\n",
    "    #打印每层的节点链表\n",
    "    #level代表树的深度（也就是索引）；linked_list是当前元素，即一个深度上的节点链表\n",
    "    for level,linked_list in enumerate(total_result):\n",
    "        #end表示结束之后不换行，以 隔开即可\n",
    "        print(f\"Level {level}:\",end=\" \")\n",
    "        current = linked_list\n",
    "        while current:\n",
    "            print(current.val,end=\" \")\n",
    "            current = current.next\n",
    "        print(\"\\t\")"
   ]
  },
  {
   "cell_type": "markdown",
   "id": "a002ce31",
   "metadata": {},
   "source": [
    "### 方法二：层次遍历（核心BFS）"
   ]
  },
  {
   "cell_type": "code",
   "execution_count": 7,
   "id": "5ecf973b",
   "metadata": {},
   "outputs": [
    {
     "name": "stdout",
     "output_type": "stream",
     "text": [
      "Level 0: 1 \t\n",
      "Level 1: 2 3 \t\n",
      "Level 2: 5 6 7 \t\n"
     ]
    }
   ],
   "source": [
    "import queue  \n",
    "def create_list(root):\n",
    "    if not root:\n",
    "        return\n",
    "    result = []\n",
    "    #创建一个普通队列，并将根节点和深度组作为一个元组放入队列中\n",
    "    queue_obj = queue.Queue()\n",
    "    queue_obj.put((root,0))  #使用元组包含节点和深度\n",
    "    \n",
    "    while not queue_obj.empty():\n",
    "        node,level = queue_obj.get()\n",
    "        #for _ in range(len(queue_obj)):\n",
    "            #node = queue_obj.pop\n",
    "        if len(result) <= level:\n",
    "            result.append(ListNode(node.val))\n",
    "        else:\n",
    "            current = result[level]\n",
    "            while current.next:\n",
    "                current = current.next\n",
    "            current.next = ListNode(node.val)\n",
    "        if node.left:\n",
    "            queue_obj.put((node.left,level + 1))\n",
    "        if node.right:\n",
    "            queue_obj.put((node.right,level + 1))\n",
    "    return result\n",
    "    \n",
    "if __name__ == \"__main__\":\n",
    "    #先序序列的列表\n",
    "    preorder = [1,2,None,5,None,None,3,6,None,None,7]\n",
    "    root = build_pre()\n",
    "    \n",
    "    total_result = create_list(root)\n",
    "    #打印每层的节点链表\n",
    "    #level代表树的深度（也就是索引）；linked_list是当前元素，即一个深度上的节点链表\n",
    "    #enumerate是一个内置函数，用于将可迭代对象的元素和它们的索引进行组合，返回一个枚举对象（索引和元素）\n",
    "    for level,linked_list in enumerate(total_result):\n",
    "        #end表示结束之后不换行，以 隔开即可\n",
    "        print(f\"Level {level}:\",end=\" \")\n",
    "        current = linked_list\n",
    "        while current:\n",
    "            print(current.val,end=\" \")\n",
    "            current = current.next\n",
    "        print(\"\\t\")"
   ]
  },
  {
   "cell_type": "code",
   "execution_count": null,
   "id": "0ec6c1f3",
   "metadata": {},
   "outputs": [],
   "source": []
  }
 ],
 "metadata": {
  "kernelspec": {
   "display_name": "Python 3 (ipykernel)",
   "language": "python",
   "name": "python3"
  },
  "language_info": {
   "codemirror_mode": {
    "name": "ipython",
    "version": 3
   },
   "file_extension": ".py",
   "mimetype": "text/x-python",
   "name": "python",
   "nbconvert_exporter": "python",
   "pygments_lexer": "ipython3",
   "version": "3.11.4"
  }
 },
 "nbformat": 4,
 "nbformat_minor": 5
}
