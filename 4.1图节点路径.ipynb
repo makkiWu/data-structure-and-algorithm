{
 "cells": [
  {
   "cell_type": "markdown",
   "id": "ae946ac2",
   "metadata": {},
   "source": [
    "### DFS"
   ]
  },
  {
   "cell_type": "code",
   "execution_count": 2,
   "id": "84576cc5",
   "metadata": {},
   "outputs": [
    {
     "name": "stdout",
     "output_type": "stream",
     "text": [
      "Yes\n"
     ]
    }
   ],
   "source": [
    "from collections import defaultdict\n",
    "class Graph:\n",
    "    #类的构造，初始化一个空的有向图\n",
    "    def __init__(self):\n",
    "        self.graph = defaultdict(list)\n",
    "        \n",
    "    #添加一条从u到v的边\n",
    "    def add_edge(self,u,v):\n",
    "        if u in self.graph:\n",
    "            self.graph[u].append(v)\n",
    "        else:\n",
    "            self.graph[u]=[v]\n",
    "        if v not in self.graph:\n",
    "            self.graph[v] = []\n",
    "    def print_graph(self):\n",
    "        for node,neighbors in self.graph.items():\n",
    "            print(f\"{node} -> {neighbors}\")\n",
    "            \n",
    "    def is_route(self,start,end):     \n",
    "        visited = set()\n",
    "        \n",
    "        def dfs(node):\n",
    "            if node == end:\n",
    "                return True\n",
    "            visited.add(node)\n",
    "            #递归\n",
    "            for neighbors in self.graph[node]:\n",
    "                if neighbors not in visited:\n",
    "                    if dfs(neighbors):\n",
    "                        return True\n",
    "            return False\n",
    "        return dfs(start)\n",
    "        \n",
    "\n",
    "if __name__ == \"__main__\":\n",
    "    g = Graph()\n",
    "    edges = [(0,1),(0,2),(2,0),(2,3),(2,4),(3,4)]\n",
    "    for u,v in edges:\n",
    "        g.add_edge(u,v)\n",
    "    start_node = 2\n",
    "    end_node = 4\n",
    "    #g.print_graph()\n",
    "    if g.is_route(start_node,end_node):\n",
    "        print(\"Yes\")\n",
    "    else:\n",
    "        print(\"no\")"
   ]
  },
  {
   "cell_type": "markdown",
   "id": "3c868a04",
   "metadata": {},
   "source": [
    "### BFS"
   ]
  },
  {
   "cell_type": "code",
   "execution_count": 3,
   "id": "9281d0b2",
   "metadata": {},
   "outputs": [
    {
     "name": "stdout",
     "output_type": "stream",
     "text": [
      "Yes\n"
     ]
    }
   ],
   "source": [
    "from collections import defaultdict,deque\n",
    "class Graph:\n",
    "    #类的构造，初始化一个空的有向图\n",
    "    def __init__(self):\n",
    "        self.graph = defaultdict(list)\n",
    "        \n",
    "    #添加一条从u到v的边\n",
    "    def add_edge(self,u,v):\n",
    "        if u in self.graph:\n",
    "            self.graph[u].append(v)\n",
    "        else:\n",
    "            self.graph[u]=[v]\n",
    "        if v not in self.graph:\n",
    "            self.graph[v] = []   \n",
    "    def print_graph(self):\n",
    "        for node,neighbors in self.graph.items():\n",
    "            print(f\"{node} -> {neighbors}\")\n",
    "            \n",
    "    def is_route(self,start,end):\n",
    "        #双端队列，start是起始节点，[start]是起始路径（表示从节点start开始的初始路径）\n",
    "        queue = deque([(start,[start])])\n",
    "        if start not in self.graph:\n",
    "            return None\n",
    "        #队列不空执行搜索\n",
    "        while queue:\n",
    "            #current_node是当然节点，current_path是当前节点的路径\n",
    "            current_node,current_path = queue.popleft()\n",
    "            if current_node == end:\n",
    "                return True\n",
    "            for neighbor in self.graph[current_node]:\n",
    "                if neighbor not in current_path:\n",
    "                    new_path = current_path + [neighbor]\n",
    "                    queue.append((neighbor,new_path))\n",
    "        return False\n",
    "            \n",
    "if __name__ == \"__main__\":\n",
    "    g = Graph()\n",
    "    edges = [(0,1),(0,2),(2,0),(2,3),(2,4),(3,4)]\n",
    "    for u,v in edges:\n",
    "        g.add_edge(u,v)\n",
    "    start_node = 2\n",
    "    end_node = 4\n",
    "    #g.print_graph()\n",
    "    is_route = g.is_route(start_node,end_node)\n",
    "    if is_route:\n",
    "        print(\"Yes\")\n",
    "    else:\n",
    "        print(\"No\")"
   ]
  },
  {
   "cell_type": "markdown",
   "id": "666e694e",
   "metadata": {},
   "source": [
    "## 扩展"
   ]
  },
  {
   "cell_type": "markdown",
   "id": "5fa8f2a2",
   "metadata": {},
   "source": [
    "### 深度优先算法（DFS）"
   ]
  },
  {
   "cell_type": "code",
   "execution_count": 4,
   "id": "739a8c1f",
   "metadata": {},
   "outputs": [
    {
     "name": "stdout",
     "output_type": "stream",
     "text": [
      "0 -> [1, 2]\n",
      "1 -> []\n",
      "2 -> [0, 3, 4]\n",
      "3 -> [4]\n",
      "4 -> []\n",
      "Yes\n",
      "路径1:2 -> 3 -> 4\n",
      "路径2:2 -> 4\n"
     ]
    }
   ],
   "source": [
    "from collections import defaultdict\n",
    "class Graph:\n",
    "    #类的构造，初始化一个空的有向图\n",
    "    def __init__(self):\n",
    "        self.graph = defaultdict(list)\n",
    "        \n",
    "    #添加一条从u到v的边\n",
    "    def add_edge(self,u,v):\n",
    "        if u in self.graph:\n",
    "            self.graph[u].append(v)\n",
    "        else:\n",
    "            self.graph[u]=[v]\n",
    "        if v not in self.graph:\n",
    "            self.graph[v] = []   \n",
    "    def print_graph(self):\n",
    "        for node,neighbors in self.graph.items():\n",
    "            print(f\"{node} -> {neighbors}\")\n",
    "            \n",
    "    #使用path列表进行存储路径，初始为空\n",
    "    def dfs(self,start,end,path=[],paths = []):\n",
    "        #判断开始节点是否在图内\n",
    "        if start not in self.graph:\n",
    "            return None\n",
    "        #将开始节点放入path中\n",
    "        \n",
    "        path = path + [start]\n",
    "        if start == end:\n",
    "            paths.append(path)\n",
    "        #递归\n",
    "        for neighbors in self.graph[start]:\n",
    "            if neighbors not in path:\n",
    "                self.dfs(neighbors,end,path[:],paths)\n",
    "        return paths\n",
    "        \n",
    "\n",
    "if __name__ == \"__main__\":\n",
    "    g = Graph()\n",
    "    edges = [(0,1),(0,2),(2,0),(2,3),(2,4),(3,4)]\n",
    "    for u,v in edges:\n",
    "        g.add_edge(u,v)\n",
    "    start_node = 2\n",
    "    end_node = 4\n",
    "    #g.print_graph()\n",
    "    all_routes = g.dfs(start_node,end_node)\n",
    "    if all_routes:\n",
    "        print(\"Yes\")\n",
    "        for i,route in enumerate(all_routes):\n",
    "            print(f\"路径{i + 1}:{' -> '.join(map(str,route))}\")\n",
    "    else:\n",
    "        print(\"no\")"
   ]
  },
  {
   "cell_type": "markdown",
   "id": "cf587de8",
   "metadata": {},
   "source": [
    "### 广度优先遍历（BFS）"
   ]
  },
  {
   "cell_type": "code",
   "execution_count": 5,
   "id": "ef7260dc",
   "metadata": {},
   "outputs": [
    {
     "name": "stdout",
     "output_type": "stream",
     "text": [
      "Yes\n",
      "路径1:2 -> 4\n",
      "路径2:2 -> 3 -> 4\n"
     ]
    }
   ],
   "source": [
    "from collections import defaultdict,deque\n",
    "class Graph:\n",
    "    #类的构造，初始化一个空的有向图\n",
    "    def __init__(self):\n",
    "        self.graph = defaultdict(list)\n",
    "        \n",
    "    #添加一条从u到v的边\n",
    "    def add_edge(self,u,v):\n",
    "        if u in self.graph:\n",
    "            self.graph[u].append(v)\n",
    "        else:\n",
    "            self.graph[u]=[v]\n",
    "        if v not in self.graph:\n",
    "            self.graph[v] = []   \n",
    "    def print_graph(self):\n",
    "        for node,neighbors in self.graph.items():\n",
    "            print(f\"{node} -> {neighbors}\")\n",
    "            \n",
    "    def bfs(self,start,end):\n",
    "        all_routes = []\n",
    "        #双端队列，start是起始节点，[start]是起始路径（表示从节点start开始的初始路径）\n",
    "        queue = deque([(start,[start])])\n",
    "        if start not in self.graph:\n",
    "            return None\n",
    "        #队列不空执行搜索\n",
    "        while queue:\n",
    "            #current_node是当然节点，current_path是当前节点的路径\n",
    "            current_node,current_path = queue.popleft()\n",
    "            if current_node == end:\n",
    "                all_routes.append(current_path)\n",
    "                ##使用continue是为了寻找是否还有其他路径\n",
    "                continue\n",
    "            \n",
    "            #遍历current_node的邻居节点，并检查是否在路径中\n",
    "            for neighbor in self.graph[current_node]:\n",
    "                if neighbor not in current_path:\n",
    "                    new_path = current_path + [neighbor]\n",
    "                    queue.append((neighbor,new_path))\n",
    "        return all_routes\n",
    "\n",
    "            \n",
    "            \n",
    "if __name__ == \"__main__\":\n",
    "    g = Graph()\n",
    "    edges = [(0,1),(0,2),(2,0),(2,3),(2,4),(3,4)]\n",
    "    for u,v in edges:\n",
    "        g.add_edge(u,v)\n",
    "    start_node = 2\n",
    "    end_node = 4\n",
    "    #g.print_graph()\n",
    "    all_routes = g.bfs(start_node,end_node)\n",
    "    if all_routes:\n",
    "        print(\"Yes\")\n",
    "        #enumerate是一个内置函数，用于将可迭代对象的元素和它们的索引进行组合，返回一个枚举对象（索引和元素）\n",
    "        for i,route in enumerate(all_routes,1):\n",
    "            print(f\"路径{i}:{' -> '.join(map(str,route))}\")\n",
    "    else:\n",
    "        print(\"No\")"
   ]
  },
  {
   "cell_type": "code",
   "execution_count": null,
   "id": "0deb7f99",
   "metadata": {},
   "outputs": [],
   "source": []
  }
 ],
 "metadata": {
  "kernelspec": {
   "display_name": "Python 3 (ipykernel)",
   "language": "python",
   "name": "python3"
  },
  "language_info": {
   "codemirror_mode": {
    "name": "ipython",
    "version": 3
   },
   "file_extension": ".py",
   "mimetype": "text/x-python",
   "name": "python",
   "nbconvert_exporter": "python",
   "pygments_lexer": "ipython3",
   "version": "3.11.4"
  }
 },
 "nbformat": 4,
 "nbformat_minor": 5
}
