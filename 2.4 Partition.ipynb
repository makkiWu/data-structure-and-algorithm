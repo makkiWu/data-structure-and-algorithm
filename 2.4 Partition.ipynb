{
 "cells": [
  {
   "cell_type": "markdown",
   "id": "b2e2655c",
   "metadata": {},
   "source": [
    "- Write code to partition a linked list around a vslue x,such that all nodes less than x come to before all nodes greater than or equal to x.If x is contained within the list,the values of x only need to be after the elements less than x"
   ]
  },
  {
   "cell_type": "code",
   "execution_count": 2,
   "id": "22a3f7d4",
   "metadata": {},
   "outputs": [],
   "source": [
    "#定义链表\n",
    "class  ListNode:\n",
    "    def __init__(self,val=0,next=None):\n",
    "        self.val=val\n",
    "        self.next=next"
   ]
  },
  {
   "cell_type": "markdown",
   "id": "52be7282",
   "metadata": {},
   "source": [
    "# 方法一：遍历单链表，建立两个新链表，拼接"
   ]
  },
  {
   "cell_type": "code",
   "execution_count": 11,
   "id": "45d6dc81",
   "metadata": {},
   "outputs": [],
   "source": [
    "#遍历单链表，建立两个新链表，拼接\n",
    "def partition(head,x):\n",
    "    before_head=ListNode(0)\n",
    "    after_head=ListNode(0)\n",
    "    before=before_head\n",
    "    after=after_head\n",
    "    current=head.next\n",
    "    while current is not None:\n",
    "        if current.val<x:\n",
    "            before.next=current\n",
    "            before=before.next\n",
    "        else:\n",
    "            after.next=current\n",
    "            after=after.next\n",
    "        current=current.next\n",
    "    before.next=after_head.next\n",
    "    after.next=None#防止形成循环\n",
    "    return before_head.next"
   ]
  },
  {
   "cell_type": "code",
   "execution_count": 12,
   "id": "9c167dc4",
   "metadata": {
    "code_folding": []
   },
   "outputs": [],
   "source": [
    "#添加实例测试3->5->8->5->10->2->1(partition=5)\n",
    "s=[3,5,8,5,10,2,1]\n",
    "head=ListNode(0)\n",
    "current=head\n",
    "for c in s:\n",
    "    current.next=ListNode(c)\n",
    "    current=current.next\n",
    "# current = head.next\n",
    "# while current is not None:\n",
    "#     print(current.val, end=\" -> \")\n",
    "#     current = current.next"
   ]
  },
  {
   "cell_type": "code",
   "execution_count": 13,
   "id": "e55037d8",
   "metadata": {},
   "outputs": [
    {
     "name": "stdout",
     "output_type": "stream",
     "text": [
      "2 -> 1 -> 5 -> 8 -> 5 -> 10 -> "
     ]
    }
   ],
   "source": [
    "new_head=partition(head,5)\n",
    "current = new_head.next\n",
    "while current is not None:\n",
    "    print(current.val, end=\" -> \")\n",
    "    current = current.next"
   ]
  },
  {
   "cell_type": "markdown",
   "id": "ccba4235",
   "metadata": {},
   "source": [
    "# 方法二：更新头尾节点解法"
   ]
  },
  {
   "cell_type": "code",
   "execution_count": null,
   "id": "c56ed809",
   "metadata": {},
   "outputs": [],
   "source": [
    "#有一说一非常绕的一个方法,理解起来没什么好方法，画图吧就"
   ]
  },
  {
   "cell_type": "code",
   "execution_count": 7,
   "id": "fc0ce784",
   "metadata": {},
   "outputs": [],
   "source": [
    "def partition(head,x):\n",
    "    left=head\n",
    "    right=head\n",
    "    nexts=head.next\n",
    "    while head is not None:\n",
    "        nexts=head.next\n",
    "        if head.val<x:\n",
    "            head.next=left\n",
    "            left=head\n",
    "        else:\n",
    "            right.next=head\n",
    "            right=head\n",
    "        head=nexts\n",
    "    right.next=None\n",
    "    return left"
   ]
  },
  {
   "cell_type": "code",
   "execution_count": 8,
   "id": "c3cbc1ad",
   "metadata": {},
   "outputs": [],
   "source": [
    "#添加实例测试3->5->8->5->10->2->1(partition=5)\n",
    "s=[3,5,8,5,10,2,1]\n",
    "head=ListNode(0)\n",
    "current=head\n",
    "for c in s:\n",
    "    current.next=ListNode(c)\n",
    "    current=current.next"
   ]
  },
  {
   "cell_type": "code",
   "execution_count": 9,
   "id": "9799b3e2",
   "metadata": {},
   "outputs": [
    {
     "name": "stdout",
     "output_type": "stream",
     "text": [
      "1 -> 2 -> 3 -> 5 -> 8 -> 5 -> 10 -> "
     ]
    }
   ],
   "source": [
    "new_head=partition(head.next,5)\n",
    "current = new_head\n",
    "while current is not None:\n",
    "    print(current.val, end=\" -> \")\n",
    "    current = current.next"
   ]
  },
  {
   "cell_type": "code",
   "execution_count": null,
   "id": "bcdb0934",
   "metadata": {},
   "outputs": [],
   "source": []
  }
 ],
 "metadata": {
  "kernelspec": {
   "display_name": "Python 3 (ipykernel)",
   "language": "python",
   "name": "python3"
  },
  "language_info": {
   "codemirror_mode": {
    "name": "ipython",
    "version": 3
   },
   "file_extension": ".py",
   "mimetype": "text/x-python",
   "name": "python",
   "nbconvert_exporter": "python",
   "pygments_lexer": "ipython3",
   "version": "3.11.4"
  }
 },
 "nbformat": 4,
 "nbformat_minor": 5
}
