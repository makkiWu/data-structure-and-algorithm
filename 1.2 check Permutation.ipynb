{
 "cells": [
  {
   "cell_type": "code",
   "execution_count": 8,
   "id": "553d7b37",
   "metadata": {},
   "outputs": [],
   "source": [
    "def isPermutation_1(s,t):\n",
    "    if len(s)!=len(t):\n",
    "        return False\n",
    "    else:\n",
    "        if (list(s)).sort()==(list(t)).sort():    \n",
    "            return True\n",
    "        return False"
   ]
  },
  {
   "cell_type": "code",
   "execution_count": 9,
   "id": "b1957eb5",
   "metadata": {},
   "outputs": [
    {
     "data": {
      "text/plain": [
       "True"
      ]
     },
     "execution_count": 9,
     "metadata": {},
     "output_type": "execute_result"
    }
   ],
   "source": [
    "a='dog'\n",
    "b='god'\n",
    "isPermutation_1(a,b)"
   ]
  },
  {
   "cell_type": "code",
   "execution_count": null,
   "id": "ded500b4",
   "metadata": {},
   "outputs": [],
   "source": []
  },
  {
   "cell_type": "code",
   "execution_count": 10,
   "id": "2d1e489c",
   "metadata": {},
   "outputs": [],
   "source": [
    "from collections import defaultdict\n",
    "def isPermutation_2(s,t):\n",
    "    if len(s)!=len(t):\n",
    "        return False\n",
    "    dic=defaultdict(int)\n",
    "    for c in s:\n",
    "        dic[c]+=1\n",
    "    for c in t:\n",
    "        dic[c]-=1\n",
    "    for val in dic.values():\n",
    "        if val!=0:\n",
    "            return False\n",
    "    return True"
   ]
  },
  {
   "cell_type": "code",
   "execution_count": 11,
   "id": "8c956f8b",
   "metadata": {},
   "outputs": [
    {
     "data": {
      "text/plain": [
       "True"
      ]
     },
     "execution_count": 11,
     "metadata": {},
     "output_type": "execute_result"
    }
   ],
   "source": [
    "a='dog'\n",
    "b='god'\n",
    "isPermutation_2(a,b)"
   ]
  },
  {
   "cell_type": "code",
   "execution_count": 5,
   "id": "8df06b7a",
   "metadata": {},
   "outputs": [],
   "source": [
    "from collections import Counter\n",
    "def isPermutation_3(s,t):\n",
    "    if len(s)!=len(t):\n",
    "        return False\n",
    "    if Counter(s)==Counter(t):\n",
    "        return True\n",
    "    return False"
   ]
  },
  {
   "cell_type": "code",
   "execution_count": 6,
   "id": "587f2e70",
   "metadata": {},
   "outputs": [
    {
     "data": {
      "text/plain": [
       "True"
      ]
     },
     "execution_count": 6,
     "metadata": {},
     "output_type": "execute_result"
    }
   ],
   "source": [
    "a='dog'\n",
    "b='god'\n",
    "isPermutation_3(a,b)"
   ]
  },
  {
   "cell_type": "code",
   "execution_count": null,
   "id": "cc86d10f",
   "metadata": {},
   "outputs": [],
   "source": []
  }
 ],
 "metadata": {
  "kernelspec": {
   "display_name": "Python 3",
   "language": "python",
   "name": "python3"
  },
  "language_info": {
   "codemirror_mode": {
    "name": "ipython",
    "version": 3
   },
   "file_extension": ".py",
   "mimetype": "text/x-python",
   "name": "python",
   "nbconvert_exporter": "python",
   "pygments_lexer": "ipython3",
   "version": "3.6.6"
  }
 },
 "nbformat": 4,
 "nbformat_minor": 5
}
