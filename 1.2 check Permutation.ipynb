{
 "cells": [
  {
   "cell_type": "markdown",
   "id": "f53a7fa0",
   "metadata": {},
   "source": [
    "### Given two strings，write a method to decide if one is a permutation of the other."
   ]
  },
  {
   "cell_type": "code",
   "execution_count": null,
   "id": "5b6d63bf",
   "metadata": {},
   "outputs": [],
   "source": [
    "'''\n",
    "sort() 和 sorted() 都用于对可迭代对象（例如列表）进行排序，但它们之间有一些关键区别：\n",
    "\n",
    "原地排序 vs. 新列表排序：\n",
    "\n",
    "sort() 是列表方法，它在原地对列表进行排序，即修改了原始列表，并不返回一个新的排序后的列表。\n",
    "sorted() 是一个内置函数，它创建一个新的已排序列表，而不改变原始列表。\n",
    "返回值：\n",
    "\n",
    "sort() 不返回排序后的列表，而是返回None。\n",
    "sorted() 返回一个新的已排序列表，原始列表保持不变。\n",
    "'''"
   ]
  },
  {
   "cell_type": "code",
   "execution_count": 17,
   "id": "553d7b37",
   "metadata": {},
   "outputs": [],
   "source": [
    "def isPermutation_1(s,t):\n",
    "    if len(s)!=len(t):\n",
    "        return False\n",
    "    else:\n",
    "        sorted_s = sorted(list(s))\n",
    "        sorted_t = sorted(list(t))\n",
    "        return sorted_s == sorted_t    "
   ]
  },
  {
   "cell_type": "code",
   "execution_count": 18,
   "id": "b1957eb5",
   "metadata": {},
   "outputs": [
    {
     "data": {
      "text/plain": [
       "True"
      ]
     },
     "execution_count": 18,
     "metadata": {},
     "output_type": "execute_result"
    }
   ],
   "source": [
    "a='dog'\n",
    "b='god'\n",
    "isPermutation_1(a,b)"
   ]
  },
  {
   "cell_type": "code",
   "execution_count": 20,
   "id": "b93ca7a0",
   "metadata": {},
   "outputs": [
    {
     "data": {
      "text/plain": [
       "False"
      ]
     },
     "execution_count": 20,
     "metadata": {},
     "output_type": "execute_result"
    }
   ],
   "source": [
    "c='rat'\n",
    "d='car'\n",
    "isPermutation_1(c,d)"
   ]
  },
  {
   "cell_type": "code",
   "execution_count": 7,
   "id": "2d1e489c",
   "metadata": {},
   "outputs": [],
   "source": [
    "from collections import defaultdict\n",
    "def isPermutation_2(s,t):\n",
    "    if len(s)!=len(t):\n",
    "        return False\n",
    "    dic=defaultdict(int)\n",
    "    for c in s:\n",
    "        dic[c]+=1\n",
    "    for c in t:\n",
    "        dic[c]-=1\n",
    "    for val in dic.values():\n",
    "        if val!=0:\n",
    "            return False\n",
    "    return True"
   ]
  },
  {
   "cell_type": "code",
   "execution_count": 11,
   "id": "8c956f8b",
   "metadata": {},
   "outputs": [
    {
     "data": {
      "text/plain": [
       "True"
      ]
     },
     "execution_count": 11,
     "metadata": {},
     "output_type": "execute_result"
    }
   ],
   "source": [
    "a='dog'\n",
    "b='god'\n",
    "isPermutation_2(a,b)"
   ]
  },
  {
   "cell_type": "code",
   "execution_count": 8,
   "id": "55d1bfe7",
   "metadata": {},
   "outputs": [
    {
     "data": {
      "text/plain": [
       "False"
      ]
     },
     "execution_count": 8,
     "metadata": {},
     "output_type": "execute_result"
    }
   ],
   "source": [
    "c='rat'\n",
    "d='car'\n",
    "isPermutation_2(c,d)"
   ]
  },
  {
   "cell_type": "code",
   "execution_count": 10,
   "id": "8df06b7a",
   "metadata": {},
   "outputs": [],
   "source": [
    "#collections 模块中的 Counter 类提供了一个方便的方式来计数可哈希对象（通常是元素的出现次数），并以字典形式返回结果。\n",
    "from collections import Counter\n",
    "def isPermutation_3(s,t):\n",
    "    if len(s)!=len(t):\n",
    "        return False\n",
    "    if Counter(s)==Counter(t):\n",
    "        return True\n",
    "    return False"
   ]
  },
  {
   "cell_type": "code",
   "execution_count": 6,
   "id": "587f2e70",
   "metadata": {},
   "outputs": [
    {
     "data": {
      "text/plain": [
       "True"
      ]
     },
     "execution_count": 6,
     "metadata": {},
     "output_type": "execute_result"
    }
   ],
   "source": [
    "a='dog'\n",
    "b='god'\n",
    "isPermutation_3(a,b)"
   ]
  },
  {
   "cell_type": "code",
   "execution_count": 11,
   "id": "cc86d10f",
   "metadata": {},
   "outputs": [
    {
     "data": {
      "text/plain": [
       "False"
      ]
     },
     "execution_count": 11,
     "metadata": {},
     "output_type": "execute_result"
    }
   ],
   "source": [
    "c='rat'\n",
    "d='car'\n",
    "isPermutation_3(c,d)"
   ]
  },
  {
   "cell_type": "code",
   "execution_count": null,
   "id": "42373808",
   "metadata": {},
   "outputs": [],
   "source": []
  }
 ],
 "metadata": {
  "kernelspec": {
   "display_name": "Python 3",
   "language": "python",
   "name": "python3"
  },
  "language_info": {
   "codemirror_mode": {
    "name": "ipython",
    "version": 3
   },
   "file_extension": ".py",
   "mimetype": "text/x-python",
   "name": "python",
   "nbconvert_exporter": "python",
   "pygments_lexer": "ipython3",
   "version": "3.6.6"
  }
 },
 "nbformat": 4,
 "nbformat_minor": 5
}
