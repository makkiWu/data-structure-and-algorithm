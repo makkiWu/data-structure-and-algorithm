{
 "cells": [
  {
   "cell_type": "markdown",
   "id": "aa6502b8",
   "metadata": {},
   "source": [
    "- 2.3 Delete Middle Node:implement an algorithm to delete a node in the middle(i.e.,any nodoe but the first and last node,not necessarily the exact middle) of a singly linked list,given only access to that node "
   ]
  },
  {
   "cell_type": "code",
   "execution_count": 5,
   "id": "04300465",
   "metadata": {},
   "outputs": [],
   "source": [
    "class ListNode:\n",
    "    def __init__(self,val=0,next=None):\n",
    "        self.val=val\n",
    "        self.next=next\n",
    "        "
   ]
  },
  {
   "cell_type": "code",
   "execution_count": 6,
   "id": "2594e314",
   "metadata": {
    "code_folding": []
   },
   "outputs": [],
   "source": [
    "def delMid(head,x):\n",
    "    if head.next is None:\n",
    "        raise IndexError('空链表无法操作')\n",
    "    else:\n",
    "        p=head\n",
    "        if p.next.val==x:\n",
    "            raise IndexError('无法删除第一个结点')\n",
    "        while p.next is not None:\n",
    "            if p.next.val==x and p.next.next is not None:\n",
    "                p.next=p.next.next\n",
    "            elif p.next.val==x and p.next.next is None:\n",
    "                raise IndexError('无法删除最后一个结点')\n",
    "            else:\n",
    "                p=p.next\n",
    "        return head"
   ]
  },
  {
   "cell_type": "code",
   "execution_count": 11,
   "id": "9fe1086e",
   "metadata": {},
   "outputs": [],
   "source": [
    "s=[1,2,3,2,2,4]\n",
    "head=ListNode(0)\n",
    "current=head\n",
    "for c in s:\n",
    "    current.next=ListNode(c)\n",
    "    current=current.next"
   ]
  },
  {
   "cell_type": "code",
   "execution_count": 12,
   "id": "3a388811",
   "metadata": {},
   "outputs": [
    {
     "name": "stdout",
     "output_type": "stream",
     "text": [
      "1\n",
      "2\n",
      "2\n",
      "2\n",
      "4\n"
     ]
    }
   ],
   "source": [
    "ans=delMid(head,3)\n",
    "p=ans.next\n",
    "while p!=None:\n",
    "    print(p.val)\n",
    "    p=p.next"
   ]
  },
  {
   "cell_type": "code",
   "execution_count": null,
   "id": "0fe7d535",
   "metadata": {},
   "outputs": [],
   "source": []
  }
 ],
 "metadata": {
  "kernelspec": {
   "display_name": "Python 3 (ipykernel)",
   "language": "python",
   "name": "python3"
  },
  "language_info": {
   "codemirror_mode": {
    "name": "ipython",
    "version": 3
   },
   "file_extension": ".py",
   "mimetype": "text/x-python",
   "name": "python",
   "nbconvert_exporter": "python",
   "pygments_lexer": "ipython3",
   "version": "3.11.4"
  }
 },
 "nbformat": 4,
 "nbformat_minor": 5
}
