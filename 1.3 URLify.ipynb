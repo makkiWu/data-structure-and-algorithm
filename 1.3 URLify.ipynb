{
 "cells": [
  {
   "cell_type": "markdown",
   "id": "e1a30e79",
   "metadata": {},
   "source": [
    "- Write a method to replace all spaces in a string with %20;You may assuume that the string has sufficent space at the end to hold the additional characters,and that you are given the 'true' length of the string."
   ]
  },
  {
   "cell_type": "code",
   "execution_count": 26,
   "id": "ce4df5ce",
   "metadata": {},
   "outputs": [],
   "source": [
    "#把字符串改成列列表从后往前遍历\n",
    "import re\n",
    "def URLify(S):\n",
    "    ls=len(S)\n",
    "    new_ls=ls\n",
    "    while S[new_ls-1]==' ':\n",
    "        new_ls-=1\n",
    "    S=S[:new_ls]\n",
    "    #使用正则表达式将连续的多个空格替换为单个空格\n",
    "    ans=re.sub(r'\\s+', ' ', S)\n",
    "    count=len(ans)\n",
    "    return ans.replace(' ','%20'),count"
   ]
  },
  {
   "cell_type": "code",
   "execution_count": 27,
   "id": "31e0b6eb",
   "metadata": {},
   "outputs": [
    {
     "data": {
      "text/plain": [
       "('Mr%20John%20Smith', 13)"
      ]
     },
     "execution_count": 27,
     "metadata": {},
     "output_type": "execute_result"
    }
   ],
   "source": [
    "input_string = \"Mr  John Smith    \"\n",
    "URLify(input_string)"
   ]
  },
  {
   "cell_type": "code",
   "execution_count": 10,
   "id": "ed3055fb",
   "metadata": {},
   "outputs": [
    {
     "name": "stdout",
     "output_type": "stream",
     "text": [
      "2\n"
     ]
    }
   ],
   "source": [
    "s='a b  '\n",
    "URLify(s)"
   ]
  },
  {
   "cell_type": "markdown",
   "id": "11fcead5",
   "metadata": {},
   "source": [
    "## replace方法\n",
    "### new_string = original_string.replace(old_substring, new_substring, count)\n",
    "- original_string 是要进行替换操作的原始字符串。\n",
    "- old_substring 是你想要替换的子字符串（或字符）。\n",
    "- new_substring 是用来替换 old_substring 的新子字符串（或字符）。\n",
    "- count 是可选参数，表示替换的最大次数。如果省略 count 参数，则默认替换所有匹配项。\n",
    "- replace() 方法会返回一个新的字符串，其中所有匹配 old_substring 的地方都被替换为 new_substring。"
   ]
  },
  {
   "cell_type": "markdown",
   "id": "83e2c3f9",
   "metadata": {},
   "source": [
    "学习编写正则表达式需要练习和理解正则表达式的基本语法和概念。以下是一些步骤和资源，可以帮助你学习如何写正则表达式：\n",
    "\n",
    "1. **了解正则表达式基础**：\n",
    "   - 开始之前，学习正则表达式的基本语法，包括元字符（如 `.`、`*`、`+`、`?`）、字符集（如 `[a-zA-Z]`）、捕获组和反向引用等。\n",
    "\n",
    "2. **选择一个合适的学习资源**：\n",
    "   - 选择一个适合你水平的学习资源，可以是在线教程、书籍、视频教程或课程。一些常见的正则表达式学习资源包括:\n",
    "     - [Regular-Expressions.info](https://www.regular-expressions.info/): 提供了详细的正则表达式教程和参考资料。\n",
    "     - [RegexOne](https://regexone.com/): 交互式的正则表达式教程，适合初学者。\n",
    "     - 书籍如《Python 正则表达式》、《精通正则表达式》等。\n",
    "     - 在线课程和视频教程，如Coursera、edX、YouTube上的正则表达式教程。\n",
    "\n",
    "3. **使用正则表达式在线工具**：\n",
    "   - 有许多在线正则表达式测试工具，如 [RegExr](https://regexr.com/)、[Regex101](https://regex101.com/) 和 [RegexPal](https://www.regexpal.com/) 等，用于实时测试和调试你的正则表达式模式。\n",
    "\n",
    "4. **进行练习和实验**：\n",
    "   - 练习是掌握正则表达式的关键。尝试不同的模式，以解决各种文本处理问题，例如文本搜索、文本替换、验证输入等。你可以从简单的模式开始，然后逐渐提高难度。\n",
    "\n",
    "5. **参考正则表达式文档**：\n",
    "   - 查阅正则表达式的官方文档和参考资料，以了解更多细节和高级技巧。例如，Python 中的 `re` 模块文档或其他编程语言的正则表达式库文档。\n",
    "\n",
    "6. **与他人交流和学习**：\n",
    "   - 讨论正则表达式问题和技巧，与其他开发者分享经验，这有助于提高你的技能。\n",
    "\n",
    "7. **练习项目**：\n",
    "   - 尝试在实际项目中应用正则表达式。解决实际问题将帮助你更好地理解如何使用正则表达式。\n",
    "\n",
    "8. **注意性能和边界情况**：\n",
    "   - 当编写复杂的正则表达式时，要注意性能问题。有些正则表达式可能会导致回溯（backtracking）和效率问题。确保你的正则表达式在各种情况下都能正常运行。\n",
    "\n",
    "正则表达式需要一些时间和实践来掌握，但一旦你熟练掌握了它，它将成为文本处理中的强大工具。不断练习和实验，同时查阅相关文档和资源，将帮助你提高你的正则表达式编写技能。"
   ]
  },
  {
   "cell_type": "code",
   "execution_count": null,
   "id": "76b138df",
   "metadata": {},
   "outputs": [],
   "source": []
  }
 ],
 "metadata": {
  "kernelspec": {
   "display_name": "Python 3 (ipykernel)",
   "language": "python",
   "name": "python3"
  },
  "language_info": {
   "codemirror_mode": {
    "name": "ipython",
    "version": 3
   },
   "file_extension": ".py",
   "mimetype": "text/x-python",
   "name": "python",
   "nbconvert_exporter": "python",
   "pygments_lexer": "ipython3",
   "version": "3.11.4"
  }
 },
 "nbformat": 4,
 "nbformat_minor": 5
}
